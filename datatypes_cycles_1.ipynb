{
 "cells": [
  {
   "cell_type": "markdown",
   "metadata": {},
   "source": [
    "**Задача 1**. Дано слово из латинских букв. Напишите скрипт, который выводит на экран букву из середины слова (если число букв нечетное). Если букв четное число, то на экран выводятся две буквы из середины.  \n",
    "\n",
    "Пример: для 'test' должно выводится 'es', для 'testing' - 't'"
   ]
  },
  {
   "cell_type": "code",
   "execution_count": 4,
   "metadata": {},
   "outputs": [
    {
     "name": "stdout",
     "output_type": "stream",
     "text": [
      "Введите слово: teste\n",
      "s\n"
     ]
    }
   ],
   "source": [
    "word = input('Введите слово: ')\n",
    "word_len = len (word)\n",
    "remainder = word_len % 2\n",
    "div = word_len // 2\n",
    "if (remainder == 0):            #четное число, считает по остатку\n",
    "    print(word[div-1:div+1])\n",
    "    \n",
    "else:\n",
    "    print(word[div])"
   ]
  },
  {
   "cell_type": "markdown",
   "metadata": {},
   "source": [
    "**Задача 2**. Мы делаем MVP dating-сервиса, и у нас есть список парней и девушек (их число может варьироваться):"
   ]
  },
  {
   "cell_type": "code",
   "execution_count": 3,
   "metadata": {},
   "outputs": [],
   "source": [
    "boys = sorted(['Peter', 'Alex', 'John', 'Arthur', 'Richard'])\n",
    "girls = sorted(['Kate', 'Liza', 'Kira', 'Emma', 'Trisha'])"
   ]
  },
  {
   "cell_type": "code",
   "execution_count": 4,
   "metadata": {},
   "outputs": [
    {
     "name": "stdout",
     "output_type": "stream",
     "text": [
      "Alex и Emma\n",
      "Arthur и Kate\n",
      "John и Kira\n",
      "Peter и Liza\n",
      "Richard и Trisha\n"
     ]
    }
   ],
   "source": [
    "from itertools import zip_longest\n",
    "for boys, girls in zip_longest(boys, girls):\n",
    "    print (boys,'и',girls )"
   ]
  },
  {
   "cell_type": "markdown",
   "metadata": {},
   "source": [
    "Выдвигаем гипотезу: лучшие рекомендации мы получим, если просто отсортируем имена по алфавиту и познакомим людей с одинаковыми индексами после сортировки! \"Познакомить\" пары нам поможет функция zip, а в цикле распакуем zip-объект и выведем информацию в виде:\n",
    "\n",
    "Идеальные пары:  \n",
    "Alex и Emma  \n",
    "Arthur и Kate  \n",
    "John и Kira  \n",
    "Peter и Liza  \n",
    "Richard и Trisha  "
   ]
  },
  {
   "cell_type": "markdown",
   "metadata": {},
   "source": [
    "**Внимание! Если количество людей в списках будет не совпадать, то мы никого знакомить не будет и выведем пользователю предупреждение, что кто-то может остаться без пары!**"
   ]
  },
  {
   "cell_type": "markdown",
   "metadata": {},
   "source": [
    "**Задача 3**. У нас есть список, содержащий информацию о среднедневной температуре в Фаренгейтах за недельный период по странам.\n",
    "Необходимо написать код, который рассчитает среднюю температуру за неделю в Цельсиях для каждой страны."
   ]
  },
  {
   "cell_type": "code",
   "execution_count": 33,
   "metadata": {},
   "outputs": [],
   "source": [
    "countries_temperature = [\n",
    " ['Thailand', [75.2, 77, 78.8, 73.4, 68, 75.2, 77]],\n",
    " ['Germany', [57.2, 55.4, 59, 59, 53.6, 55.4, 57.2]],\n",
    " ['Russia', [35.6, 37.4, 39.2, 41, 42.8, 39.2, 35.6]],\n",
    " ['Poland', [50, 50, 53.6, 57.2, 55.4, 55.4, 51.8]],\n",
    "]"
   ]
  },
  {
   "cell_type": "code",
   "execution_count": 43,
   "metadata": {},
   "outputs": [
    {
     "name": "stdout",
     "output_type": "stream",
     "text": [
      "Средняя температура Thailand - 74.94285714285714\n",
      "Средняя температура Germany - 56.685714285714276\n",
      "Средняя температура Russia - 38.68571428571429\n",
      "Средняя температура Poland - 53.34285714285714\n"
     ]
    }
   ],
   "source": [
    "for i in range(len(countries_temperature)):\n",
    "    sum_temp = sum(countries_temperature[i][1]) / len(countries_temperature[i][1])\n",
    "    print('Средняя температура',countries_temperature[i][0],'-', sum_temp)"
   ]
  },
  {
   "cell_type": "markdown",
   "metadata": {},
   "source": [
    "**Задача 4.** Дан поток логов по количеству просмотренных страниц для каждого пользователя. Список отсортирован по ID пользователя. Вам необходимо написать алгоритм, который считает среднее значение просмотров на пользователя. \n",
    "Т. е. надо посчитать отношение суммы всех просмотров к количеству уникальных пользователей."
   ]
  },
  {
   "cell_type": "code",
   "execution_count": 16,
   "metadata": {},
   "outputs": [],
   "source": [
    "stream = [\n",
    "    '2018-01-01,user1,3',\n",
    "    '2018-01-07,user1,4',\n",
    "    '2018-03-29,user1,1',\n",
    "    '2018-04-04,user1,13',\n",
    "    '2018-01-05,user2,7',\n",
    "    '2018-06-14,user3,4',\n",
    "    '2018-07-02,user3,10',\n",
    "    '2018-03-21,user4,19',\n",
    "    '2018-03-22,user4,4',\n",
    "    '2018-04-22,user4,8',\n",
    "    '2018-05-03,user4,9',\n",
    "    '2018-05-11,user4,11',\n",
    "]"
   ]
  },
  {
   "cell_type": "code",
   "execution_count": 17,
   "metadata": {},
   "outputs": [
    {
     "name": "stdout",
     "output_type": "stream",
     "text": [
      "Пользователь user1 в среднем просматривал страниц 5.25 раз\n",
      "Пользователь user2 в среднем просматривал страниц 1.75 раз\n",
      "Пользователь user3 в среднем просматривал страниц 3.5 раз\n",
      "Пользователь user4 в среднем просматривал страниц 12.75 раз\n"
     ]
    }
   ],
   "source": [
    "mas_user1 = []\n",
    "mas_user2 = []\n",
    "mas_user3 = []\n",
    "mas_user4 = []\n",
    "for i in range(len(stream)):\n",
    "    if stream[i][11:16] == 'user1':\n",
    "        mas_user1.append(int(stream[i][17:]))\n",
    "    elif stream[i][11:16] == 'user2':\n",
    "        mas_user2.append(int(stream[i][17:]))\n",
    "    elif stream[i][11:16] == 'user3':\n",
    "        mas_user3.append(int(stream[i][17:]))\n",
    "    else:\n",
    "        mas_user4.append(int(stream[i][17:]))\n",
    "# print(sum(m_user1))\n",
    "print('Пользователь user1 в среднем просматривал страниц', sum(mas_user1)/4,'раз')\n",
    "print('Пользователь user2 в среднем просматривал страниц', sum(mas_user2)/4,'раз')\n",
    "print('Пользователь user3 в среднем просматривал страниц', sum(mas_user3)/4,'раз')\n",
    "print('Пользователь user4 в среднем просматривал страниц', sum(mas_user4)/4,'раз')"
   ]
  },
  {
   "cell_type": "markdown",
   "metadata": {},
   "source": [
    "**Задача 5**. Дана статистика рекламных кампаний по дням. Напишите алгоритм, который по паре дата-кампания ищет значение численного столбца. \n",
    "Т. е. для даты '2018-01-01' и 'google' нужно получить число 25. \n",
    "Считайте, что все комбинации дата-кампания уникальны."
   ]
  },
  {
   "cell_type": "code",
   "execution_count": 2,
   "metadata": {},
   "outputs": [],
   "source": [
    "stats = [\n",
    "    ['2018-01-01', 'google', 25],\n",
    "    ['2018-01-01', 'yandex', 65],\n",
    "    ['2018-01-01', 'market', 89],\n",
    "    ['2018-01-02', 'google', 574],\n",
    "    ['2018-01-02', 'yandex', 249],\n",
    "    ['2018-01-02', 'market', 994],\n",
    "    ['2018-01-03', 'google', 1843],\n",
    "    ['2018-01-03', 'yandex', 1327],\n",
    "    ['2018-01-03', 'market', 1764],\n",
    "]"
   ]
  },
  {
   "cell_type": "code",
   "execution_count": 19,
   "metadata": {},
   "outputs": [
    {
     "name": "stdout",
     "output_type": "stream",
     "text": [
      "Введите дату:2018-01-03\n",
      "Введите название компании:market\n",
      "1764\n"
     ]
    }
   ],
   "source": [
    "# цикл while, for-?! \n",
    "data = input ('Введите дату:')\n",
    "company = input ('Введите название компании:')\n",
    "if data == stats[0][0] and company == stats[0][1]:\n",
    "    print(stats[0][2])\n",
    "elif data == stats[1][0] and company == stats[1][1]:\n",
    "    print(stats[1][2])\n",
    "elif data == stats[2][0] and company == stats[2][1]:\n",
    "    print(stats[2][2])\n",
    "elif data == stats[3][0] and company == stats[3][1]:\n",
    "    print(stats[3][2])\n",
    "elif data == stats[4][0] and company == stats[4][1]:\n",
    "    print(stats[4][2])\n",
    "elif data == stats[5][0] and company == stats[5][1]:\n",
    "    print(stats[5][2])\n",
    "elif data == stats[6][0] and company == stats[6][1]:\n",
    "    print(stats[6][2])\n",
    "elif data == stats[7][0] and company == stats[7][1]:\n",
    "    print(stats[7][2])\n",
    "elif data == stats[8][0] and company == stats[8][1]:\n",
    "    print(stats[8][2])\n",
    "else:\n",
    "    print('Нет данных с датой -', data,'и команией -', company)"
   ]
  },
  {
   "cell_type": "code",
   "execution_count": 3,
   "metadata": {},
   "outputs": [
    {
     "name": "stdout",
     "output_type": "stream",
     "text": [
      "Введите дату:2018-01-03\n",
      "Введите название компании:market\n",
      "1764\n"
     ]
    }
   ],
   "source": [
    "# нет\n",
    "data = input ('Введите дату:')\n",
    "company = input ('Введите название компании:')\n",
    "for i in range(len(stats)):\n",
    "    if data == stats[i][0] and company == stats[i][1]:\n",
    "        print(stats[i][2])"
   ]
  },
  {
   "cell_type": "markdown",
   "metadata": {},
   "source": [
    "**Задача 6**. Дан список вида:"
   ]
  },
  {
   "cell_type": "code",
   "execution_count": 20,
   "metadata": {},
   "outputs": [],
   "source": [
    "data = [\n",
    "    [13, 25, 23, 34],\n",
    "    [45, 32, 44, 47],\n",
    "    [12, 33, 23, 95],\n",
    "    [13, 53, 34, 35]\n",
    "]"
   ]
  },
  {
   "cell_type": "markdown",
   "metadata": {},
   "source": [
    "Напишите код, который будет вычислять сумму элементов на диагонали. Т. е. 13+32+23+35.  \n",
    "Список может быть любой длины, но всегда является \"квадратным\" (количество элементов во вложенных списках равно их количеству)."
   ]
  },
  {
   "cell_type": "code",
   "execution_count": 22,
   "metadata": {},
   "outputs": [
    {
     "name": "stdout",
     "output_type": "stream",
     "text": [
      "[13, 32, 23, 35]\n",
      "103\n"
     ]
    }
   ],
   "source": [
    "diag = []\n",
    "for num in range(len(data)):\n",
    "    diag.append(data[num][num])\n",
    "print(diag)\n",
    "print(sum(diag))"
   ]
  }
 ],
 "metadata": {
  "kernelspec": {
   "display_name": "Python 3",
   "language": "python",
   "name": "python3"
  },
  "language_info": {
   "codemirror_mode": {
    "name": "ipython",
    "version": 3
   },
   "file_extension": ".py",
   "mimetype": "text/x-python",
   "name": "python",
   "nbconvert_exporter": "python",
   "pygments_lexer": "ipython3",
   "version": "3.7.6"
  }
 },
 "nbformat": 4,
 "nbformat_minor": 2
}
