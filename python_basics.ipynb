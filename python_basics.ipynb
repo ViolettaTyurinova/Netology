{
 "cells": [
  {
   "cell_type": "markdown",
   "metadata": {},
   "source": [
    "**Задание 1**. Даны 2 строки: *long_phrase* и *short_phrase*. \n",
    "Напишите код, который проверяет действительно ли длинная фраза *long_phrase* длиннее короткой *short_phrase*. И выводит *True* или *False* в зависимости от результата сравнения."
   ]
  },
  {
   "cell_type": "code",
   "execution_count": 4,
   "metadata": {},
   "outputs": [],
   "source": [
    "long_phrase = 'Насколько проще было бы писать программы, если бы не заказчики'\n",
    "short_phrase = '640Кб должно хватить для любых задач. Билл Гейтс (по легенде)'"
   ]
  },
  {
   "cell_type": "code",
   "execution_count": 5,
   "metadata": {},
   "outputs": [
    {
     "data": {
      "text/plain": [
       "True"
      ]
     },
     "execution_count": 5,
     "metadata": {},
     "output_type": "execute_result"
    }
   ],
   "source": [
    "len(long_phrase) > len(short_phrase)"
   ]
  },
  {
   "cell_type": "markdown",
   "metadata": {},
   "source": [
    "**Задание 2**. Дано значение объема файла в байтах (*в мегабайте 2^20 байт*). Напишите перевод этого значения в мегабайты в формате: \"*Объем файла равен 213.68Mb*\"."
   ]
  },
  {
   "cell_type": "code",
   "execution_count": 6,
   "metadata": {},
   "outputs": [
    {
     "name": "stdout",
     "output_type": "stream",
     "text": [
      "Введите объем файла в байтах:103578952\n",
      "Объем файла равен 98.78058624267578 Mb\n"
     ]
    }
   ],
   "source": [
    "bite = int(input('Введите объем файла в байтах:'))\n",
    "Mb = bite *(2**-20)\n",
    "print('Объем файла равен', Mb, 'Mb')"
   ]
  },
  {
   "cell_type": "markdown",
   "metadata": {},
   "source": [
    "**Задание 3**. Разработать приложение для определения знака зодиака по дате рождения. Пример:\n",
    "\n",
    "Введите месяц: март\n",
    "\n",
    "Введите число: 6\n",
    "\n",
    "Вывод:\n",
    "Рыбы"
   ]
  },
  {
   "cell_type": "code",
   "execution_count": 31,
   "metadata": {},
   "outputs": [
    {
     "name": "stdout",
     "output_type": "stream",
     "text": [
      "Введите дату: 29\n",
      "Введите месяц: июнь\n",
      "Рак\n",
      "Конец\n"
     ]
    }
   ],
   "source": [
    "dateBirth = int(input('Введите дату: '))\n",
    "mounthBirth = str(input('Введите месяц: '))\n",
    "if (22 <= dateBirth <=31 and mounthBirth =='декабрь' or mounthBirth =='Декабрь') or\\\n",
    "    (1 <= dateBirth <=19 and mounthBirth =='январь' or mounthBirth =='Январь'):\n",
    "    print('Козерог')\n",
    "elif (20 <= dateBirth <=31 and mounthBirth =='январь' or mounthBirth =='Январь') or\\\n",
    "    (1 <= dateBirth <=19 and mounthBirth =='февраль' or mounthBirth =='Февраль'):\n",
    "    print('Водолей')\n",
    "elif (20 <= dateBirth <=29 and mounthBirth =='февраль' or mounthBirth =='Февраль') or\\\n",
    "    (1 <= dateBirth <=21 and mounthBirth =='март' or mounthBirth =='Март'):\n",
    "    print('Рыбы')\n",
    "elif (22 <= dateBirth <=31 and mounthBirth =='март' or mounthBirth =='Март') or\\\n",
    "    (1 <= dateBirth <=21 and mounthBirth =='апрель' or mounthBirth =='Апрель'):\n",
    "    print('Овен')\n",
    "elif (22 <= dateBirth <=30 and mounthBirth =='апрель' or mounthBirth =='Апрель') or\\\n",
    "    (1 <= dateBirth <=21 and mounthBirth =='май' or mounthBirth =='Май'):\n",
    "    print('Телец')\n",
    "elif (22 <= dateBirth <=31 and mounthBirth =='май' or mounthBirth =='Май') or\\\n",
    "    (1 <= dateBirth <=21 and mounthBirth =='июнь' or mounthBirth =='Июнь'):\n",
    "    print('Близнецы')\n",
    "elif (22 <= dateBirth <=30 and mounthBirth =='июнь' or mounthBirth =='Июнь') or\\\n",
    "    (1 <= dateBirth <=21 and mounthBirth =='июль' or mounthBirth =='Июль'):\n",
    "    print('Рак')\n",
    "elif (22 <= dateBirth <=31 and mounthBirth =='июль' or mounthBirth =='Июль') or\\\n",
    "    (1 <= dateBirth <=21 and mounthBirth =='август' or mounthBirth =='Август'):\n",
    "    print('Лев')\n",
    "elif (22 <= dateBirth <=31 and mounthBirth =='август' or mounthBirth =='Август') or\\\n",
    "    (1 <= dateBirth <=21 and mounthBirth =='сентябрь' or mounthBirth =='Сентябрь'):\n",
    "    print('Дева')\n",
    "elif (22 <= dateBirth <=30 and mounthBirth =='сентябрь' or mounthBirth =='Сентябрь') or\\\n",
    "    (1 <= dateBirth <=21 and mounthBirth =='октябрь' or mounthBirth =='Октябрь'):\n",
    "    print('Весы')\n",
    "elif (22 <= dateBirth <=31 and mounthBirth =='октябрь' or mounthBirth =='Октябрь') or\\\n",
    "    (1 <= dateBirth <=20 and mounthBirth =='ноябрь' or mounthBirth =='Ноябрь'):\n",
    "    print('Скорпион')\n",
    "else:\n",
    "    print('Стрелец')\n",
    "print('Конец')\n"
   ]
  },
  {
   "cell_type": "markdown",
   "metadata": {},
   "source": [
    "**Задание 4**. Нужно разработать приложение для финансового планирования.\n",
    "Приложение учитывает сколько уходит на ипотеку, \"на жизнь\" и сколько нужно отложить на пенсию.\n",
    "Пользователь вводит:\n",
    "- заработанную плату в месяц.\n",
    "- сколько процентов от ЗП уходит на ипотеку.\n",
    "- сколько процентов от ЗП уходит \"на жизнь\".\n",
    "- сколько раз приходит премия в год.\n",
    "\n",
    "Остальная часть заработанной платы откладывается на пенсию.\n",
    "\n",
    "Также пользователю приходит премия в размере зарплаты, от которой половина уходит на отпуск, а вторая половина откладывается.\n",
    "\n",
    "Программа должна учитывать сколько премий было в год.\n",
    "\n",
    "Нужно вывести сколько денег тратит пользователь на ипотеку и сколько он накопит за год.\n",
    "\n",
    "Пример:\n",
    "\n",
    "Введите заработанную плату в месяц: 100000\n",
    "\n",
    "Введите сколько процентов уходит на ипотеку: 30\n",
    "\n",
    "Введите сколько процентов уходит на жизнь: 50\n",
    "\n",
    "Введите количество премий за год: 2\n",
    "\n",
    "Вывод:\n",
    "На ипотеку было потрачено: 360000 рублей\n",
    "Было накоплено: 340000 рублей"
   ]
  },
  {
   "cell_type": "code",
   "execution_count": 7,
   "metadata": {},
   "outputs": [
    {
     "name": "stdout",
     "output_type": "stream",
     "text": [
      "Введите заработанную плату в месяц: 10000\n",
      "Введите сколько процентов уходит на ипотеку: 10\n",
      "Введите сколько процентов уходит на жизнь: 20\n",
      "Введите количество премий за год: 1\n",
      "Заработная плата в год:  120000\n",
      "На ипотеку уходит в год:  12000.0\n",
      "На жизнь уходит в год:  24000.0\n",
      "Премия в год:  10000\n",
      "Накоплено: 94000.0\n"
     ]
    }
   ],
   "source": [
    "wages = int(input('Введите заработанную плату в месяц: '))\n",
    "mortgagePerc = int(input('Введите сколько процентов уходит на ипотеку: '))\n",
    "lifePerc = int(input('Введите сколько процентов уходит на жизнь: '))\n",
    "Bonus = int(input('Введите количество премий за год: '))\n",
    "mortgageYear = (mortgagePerc/100) * wagesYear  \n",
    "wagesYear = wages * 12                       \n",
    "lifeMoneyYear = ((lifePerc/100) * wages) * 12  \n",
    "BonusYear = Bonus * wages\n",
    "print('Заработная плата в год: ', wagesYear)\n",
    "print('На ипотеку уходит в год: ', mortgageYear)\n",
    "print('На жизнь уходит в год: ', lifeMoneyYear)\n",
    "print('Премия в год: ', BonusYear)\n",
    "print('Накоплено:', wagesYear - mortgageYear - lifeMoneyYear + BonusYear)"
   ]
  }
 ],
 "metadata": {
  "kernelspec": {
   "display_name": "Python 3",
   "language": "python",
   "name": "python3"
  },
  "language_info": {
   "codemirror_mode": {
    "name": "ipython",
    "version": 3
   },
   "file_extension": ".py",
   "mimetype": "text/x-python",
   "name": "python",
   "nbconvert_exporter": "python",
   "pygments_lexer": "ipython3",
   "version": "3.7.6"
  }
 },
 "nbformat": 4,
 "nbformat_minor": 2
}
