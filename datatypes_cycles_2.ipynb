{
 "cells": [
  {
   "cell_type": "markdown",
   "metadata": {},
   "source": [
    "**Задание 1**. Дан список с визитами по городам и странам. \n",
    "Напишите код, который возвращает отфильтрованный список geo_logs, содержащий только визиты из России."
   ]
  },
  {
   "cell_type": "code",
   "execution_count": null,
   "metadata": {},
   "outputs": [],
   "source": [
    "geo_logs = [\n",
    "    {'visit1': ['Москва', 'Россия']},\n",
    "    {'visit2': ['Дели', 'Индия']},\n",
    "    {'visit3': ['Владимир', 'Россия']},\n",
    "    {'visit4': ['Лиссабон', 'Португалия']},\n",
    "    {'visit5': ['Париж', 'Франция']},\n",
    "    {'visit6': ['Лиссабон', 'Португалия']},\n",
    "    {'visit7': ['Тула', 'Россия']},\n",
    "    {'visit8': ['Тула', 'Россия']},\n",
    "    {'visit9': ['Курск', 'Россия']},\n",
    "    {'visit10': ['Архангельск', 'Россия']}\n",
    "]"
   ]
  },
  {
   "cell_type": "code",
   "execution_count": null,
   "metadata": {},
   "outputs": [],
   "source": [
    "for visit in geo_logs:\n",
    "    for country in visit:\n",
    "        if visit[country][1] == 'Россия':\n",
    "            print(visit)"
   ]
  },
  {
   "cell_type": "markdown",
   "metadata": {},
   "source": [
    "**Задание 2**. Выведите на экран все уникальные гео-ID из значений словаря ids. Т. е. список вида [213, 15, 54, 119, 98, 35]"
   ]
  },
  {
   "cell_type": "code",
   "execution_count": null,
   "metadata": {},
   "outputs": [],
   "source": [
    "ids = {'user1': [213, 213, 213, 15, 213], \n",
    "       'user2': [54, 54, 119, 119, 119], \n",
    "       'user3': [213, 98, 98, 35]}"
   ]
  },
  {
   "cell_type": "code",
   "execution_count": null,
   "metadata": {},
   "outputs": [],
   "source": [
    "#не по порядку \n",
    "ids_ext = []\n",
    "for num in ids.values():\n",
    "    ids_ext.extend(num)\n",
    "ids_set = set(ids_ext)\n",
    "print(list(ids_set))"
   ]
  },
  {
   "cell_type": "code",
   "execution_count": null,
   "metadata": {},
   "outputs": [],
   "source": [
    "ids_ext = []\n",
    "ids_un = []\n",
    "for num in ids.values():\n",
    "    ids_ext.extend(num)\n",
    "for x in ids_ext:\n",
    "    if x not in ids_un:\n",
    "        ids_un.append(x)\n",
    "print(ids_un)"
   ]
  },
  {
   "cell_type": "markdown",
   "metadata": {},
   "source": [
    "**Задание 3**. Дан список поисковых запросов. Получить распределение количества слов в них. \n",
    "Т. е. поисковых запросов из одного слова - 5%, из двух - 7%, из трех - 3% и т.д."
   ]
  },
  {
   "cell_type": "code",
   "execution_count": null,
   "metadata": {},
   "outputs": [],
   "source": [
    "queries = [\n",
    "    'смотреть сериалы онлайн',\n",
    "    'новости спорта',\n",
    "    'афиша кино',\n",
    "    'курс доллара',\n",
    "    'сериалы этим летом',\n",
    "    'курс по питону',\n",
    "    'сериалы про спорт',\n",
    "]"
   ]
  },
  {
   "cell_type": "code",
   "execution_count": null,
   "metadata": {},
   "outputs": [],
   "source": [
    "number_wold = []\n",
    "for number in queries:\n",
    "    list_num_wold = number.split(' ')\n",
    "    number_wold.append(len(list_num_wold))\n",
    "dict_count_wold = {r:number_wold.count(r) for r in number_wold}\n",
    "for num_dict in dict_count_wold:\n",
    "    if num_dict == num_dict:\n",
    "        print('Поисковых запросов из', num_dict, 'слов -', int(num_dict*100/dict_count_wold[num_dict]),'%')"
   ]
  },
  {
   "cell_type": "markdown",
   "metadata": {},
   "source": [
    "**Задание 4**. Дана статистика рекламных каналов по объемам продаж. Напишите скрипт, который возвращает название канала с максимальным объемом.\n",
    "Т. е. в данном примере скрипт должен возвращать 'yandex'."
   ]
  },
  {
   "cell_type": "code",
   "execution_count": null,
   "metadata": {},
   "outputs": [],
   "source": [
    "stats = {'facebook': 55, 'yandex': 120, 'vk': 115, 'google': 99, 'email': 42, 'ok': 98}"
   ]
  },
  {
   "cell_type": "code",
   "execution_count": null,
   "metadata": {},
   "outputs": [],
   "source": [
    "max_num = max(stats.values())\n",
    "for company, num in stats.items():\n",
    "    if num == max_num:\n",
    "        print(company)"
   ]
  },
  {
   "cell_type": "markdown",
   "metadata": {},
   "source": [
    "**Задание 5**. Напишите код для преобразования произвольного списка вида ['2018-01-01', 'yandex', 'cpc', 100] (он может быть любой длины) в словарь {'2018-01-01': {'yandex': {'cpc': 100}}}"
   ]
  },
  {
   "cell_type": "code",
   "execution_count": null,
   "metadata": {},
   "outputs": [],
   "source": [
    "# {'2018-01-01': {'yandex': {'cpc': 100}}}\n",
    "print('Введите список')\n",
    "str_inpud = input()\n",
    "list_inpud = []\n",
    "\n",
    "for str_values in str_inpud.split():\n",
    "    if str_values.isdigit():                     #  isdigit() - имеется ли десятичная цифра\n",
    "        list_inpud.append(int(str_values))\n",
    "    else:\n",
    "        list_inpud.append(str_values)\n",
    "if len(list_inpud) > 2:\n",
    "    list_inpud.reverse()\n",
    "    dct = {list_inpud[1]:list_inpud[0]}\n",
    "    list_inpud.pop(1)\n",
    "    list_inpud.pop(0)\n",
    "    for var in range(len(list_inpud)):\n",
    "        dct = {list_inpud[var]:dct}\n",
    "elif len(list_inpud) == 2:\n",
    "    dct = {list_inpud[1]:list_inpud[0]}\n",
    "else:\n",
    "    dct = {list_inpud[0]}\n",
    "print(dct)"
   ]
  },
  {
   "cell_type": "code",
   "execution_count": null,
   "metadata": {},
   "outputs": [],
   "source": [
    "# {'2018-01-01': {'yandex': {'cpc': 100}}}\n",
    "list_inp = []\n",
    "str_inp = '2018-01-01 yandex cpc 100'\n",
    "\n",
    "for str_values in str_inp.split():\n",
    "    if str_values.isdigit():                     #  isdigit() - имеется ли десятичная цифра\n",
    "        list_inp.append(int(str_values))\n",
    "    else:\n",
    "        list_inp.append(str_values)\n",
    "\n",
    "list_inp.reverse()\n",
    "dct = {}\n",
    "for number in range(len(list_inp)):    \n",
    "    dct = {list_inp[number]:dct}\n",
    "print(dct)"
   ]
  }
 ],
 "metadata": {
  "kernelspec": {
   "display_name": "Python 3",
   "language": "python",
   "name": "python3"
  },
  "language_info": {
   "codemirror_mode": {
    "name": "ipython",
    "version": 3
   },
   "file_extension": ".py",
   "mimetype": "text/x-python",
   "name": "python",
   "nbconvert_exporter": "python",
   "pygments_lexer": "ipython3",
   "version": "3.7.6"
  },
  "widgets": {
   "application/vnd.jupyter.widget-state+json": {
    "state": {},
    "version_major": 2,
    "version_minor": 0
   }
  }
 },
 "nbformat": 4,
 "nbformat_minor": 2
}
