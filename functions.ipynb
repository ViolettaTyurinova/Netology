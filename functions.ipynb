{
 "cells": [
  {
   "cell_type": "markdown",
   "metadata": {},
   "source": [
    "Вы работаете секретарем и вам постоянно приходят различные документы. Вы должны быть очень внимательны, чтобы не потерять ни один документ. Каталог документов хранится в следующем виде:"
   ]
  },
  {
   "cell_type": "code",
   "execution_count": null,
   "metadata": {},
   "outputs": [],
   "source": [
    "documents = [\n",
    "    {'type': 'passport', 'number': '2207 876234', 'name': 'Василий Гупкин'},\n",
    "    {'type': 'invoice', 'number': '11-2', 'name': 'Геннадий Покемонов'},\n",
    "    {'type': 'insurance', 'number': '10006', 'name': 'Аристарх Павлов'}\n",
    "]"
   ]
  },
  {
   "cell_type": "markdown",
   "metadata": {},
   "source": [
    "Перечень полок, на которых находятся документы хранится в следующем виде:"
   ]
  },
  {
   "cell_type": "code",
   "execution_count": null,
   "metadata": {},
   "outputs": [],
   "source": [
    "directories = {\n",
    "    '1': ['2207 876234', '11-2'],\n",
    "    '2': ['10006'],\n",
    "    '3': []\n",
    "}"
   ]
  },
  {
   "cell_type": "markdown",
   "metadata": {},
   "source": [
    "Необходимо реализовать пользовательские команды (внимание! это не название функций, которые должны быть выразительными, а команды, которые вводит пользователь, чтобы получить необходимый результат):\n",
    "  \n",
    "- p – people – команда, которая спросит номер документа и выведет имя человека, которому он принадлежит;  \n",
    "- s – shelf – команда, которая спросит номер документа и выведет номер полки, на которой он находится  \n",
    "Правильно обработайте ситуацию, когда пользователь будет вводить несуществующий документ.\n",
    "- l – list – команда, которая выведет список всех документов в формате   \n",
    "**passport \"2207 876234\" \"Василий Гупкин\"**  \n",
    "- as – add shelf – команда, которая спросит номер новой полки и добавит ее в перечень\n",
    "- d – delete – команда, которая спросит номер документа и удалит его из каталога и из перечня полок. Предусмотрите сценарий, когда пользователь вводит несуществующий документ;  \n",
    "- m – move – команда, которая спросит номер документа и целевую полку и переместит его с текущей полки на целевую. Корректно обработайте кейсы, когда пользователь пытается переместить несуществующий документ или переместить документ на несуществующую полку;  \n",
    "- a – add – команда, которая добавит новый документ в каталог и в перечень полок, спросив его номер, тип, имя владельца и номер полки, на котором он будет храниться."
   ]
  },
  {
   "cell_type": "code",
   "execution_count": null,
   "metadata": {},
   "outputs": [],
   "source": [
    "#p – people – команда, которая спросит номер документа и выведет имя человека, которому он принадлежит;\n",
    "def command_p_people():\n",
    "    print('Введите номер документа')\n",
    "    number_doc = input()\n",
    "    \n",
    "    flag = 0\n",
    "    for num in documents:\n",
    "        if number_doc == num['number']:\n",
    "            flag = 1\n",
    "            name = num['name']\n",
    "    if flag == 1:\n",
    "        print(name)\n",
    "    else:\n",
    "        print(f'Документа с № {number_doc} нет')"
   ]
  },
  {
   "cell_type": "code",
   "execution_count": null,
   "metadata": {},
   "outputs": [],
   "source": [
    "#s – shelf – команда, которая спросит номер документа и выведет номер полки, на которой он находится\n",
    "#Правильно обработайте ситуацию, когда пользователь будет вводить несуществующий документ.\n",
    "def command_s_shelf():\n",
    "    print('Введите номер документа')\n",
    "    number_document_input = input()\n",
    "    number_shelf = 0\n",
    "    for shelf, number_document in directories.items():\n",
    "        for number in number_document:\n",
    "            if number == number_document_input:\n",
    "                number_shelf = shelf    \n",
    "    if number_shelf != 0:\n",
    "        print(f'Полка № {number_shelf}')\n",
    "    else:\n",
    "        print(f'Документа с № {number_document_input} на полках нет') \n"
   ]
  },
  {
   "cell_type": "code",
   "execution_count": null,
   "metadata": {},
   "outputs": [],
   "source": [
    "# l – list – команда, которая выведет список всех документов в формате\n",
    "# passport \"2207 876234\" \"Василий Гупкин\"\n",
    "def command_l_list():\n",
    "    for num in documents:\n",
    "        print(num['type'], num['number'], num['name'])    \n"
   ]
  },
  {
   "cell_type": "code",
   "execution_count": null,
   "metadata": {},
   "outputs": [],
   "source": [
    "# as – add shelf – команда, которая спросит номер новой полки и добавит ее в перечень\n",
    "\n",
    "def command_as_add_shelf():\n",
    "    print('Введите номер новой полки')\n",
    "    new_number_shelf = input()\n",
    "    \n",
    "    flag = 0\n",
    "    \n",
    "    for key in directories.keys():\n",
    "        if key == new_number_shelf:\n",
    "            flag = 1\n",
    "    if flag == 0:\n",
    "        print(flag)\n",
    "        directories.update({new_number_shelf:[]})\n",
    "        print(f'Полка с номером {new_number_shelf} добавлена')\n",
    "    else:\n",
    "        print(f'Полка с № {new_number_shelf} уже есть')"
   ]
  },
  {
   "cell_type": "code",
   "execution_count": null,
   "metadata": {
    "scrolled": true
   },
   "outputs": [],
   "source": [
    "# d – delete – команда, которая спросит номер документа и удалит его из каталога и из перечня полок. \n",
    "\n",
    "def command_d_delete():\n",
    "    print('Введите номер документа')\n",
    "    number_document_input = input()\n",
    "    \n",
    "    flag_documents = 0\n",
    "    flag_directories = 0\n",
    "\n",
    "    for dict_documents in documents:\n",
    "        for values in dict_documents.values():\n",
    "            if values == number_document_input:\n",
    "                flag_documents = 1\n",
    "                \n",
    "    for keys_directories, values_directories in directories.items():\n",
    "        for values in values_directories:\n",
    "            if values == number_document_input:\n",
    "                flag_directories = 1\n",
    "                \n",
    "    if flag_documents == 1 and flag_directories == 1:\n",
    "        for index, dict_document in enumerate(documents):\n",
    "            for key, value in dict_document.items():\n",
    "                if value == number_document_input:\n",
    "                    documents.pop(index)\n",
    "                    print(f'Документ с номером {number_document_input} удален') \n",
    "                    \n",
    "        for keys_directories, values_directories in directories.items():\n",
    "                for values in values_directories:\n",
    "                    if values == number_document_input:\n",
    "                        values_directories.remove(number_document_input)\n",
    "                        print(f'Документ с номером {number_document_input} удален с полок')\n",
    "                    \n",
    "    elif flag_documents == 0 and flag_directories == 1:\n",
    "        print(f'Документа с номером {number_document_input} нет на полках')\n",
    "    else:\n",
    "        print(f'Документа с номером {number_document_input} нет')  \n",
    "\n",
    "command_d_delete()"
   ]
  },
  {
   "cell_type": "code",
   "execution_count": null,
   "metadata": {},
   "outputs": [],
   "source": [
    "# m – move – команда, которая спросит номер документа и целевую полку и переместит его с текущей полки на целевую. \n",
    "# Корректно обработайте кейсы, когда пользователь пытается переместить несуществующий документ или переместить \n",
    "# документ на несуществующую полку;\n",
    "\n",
    "\n",
    "def command_m_move():\n",
    "    print('Введите номер документа')\n",
    "    number_document_input = input()\n",
    "    number_shelf = 0\n",
    "    number_shelf_new = 0\n",
    "    flag = 0\n",
    "    for shelf, number_document in directories.items():\n",
    "        for number in number_document:\n",
    "            if number == number_document_input:\n",
    "                number_shelf = shelf    \n",
    "    if number_shelf != 0:\n",
    "        print(f'Полка № {number_shelf}')\n",
    "        print('Введите номер новой полки')\n",
    "        number_shelf_new = input()\n",
    "    else:\n",
    "        print(f'Документа с № {number_document_input} на полках нет') \n",
    "\n",
    "    if number_shelf != 0 and number_document_input != 0:\n",
    "        for shelf in directories.keys():\n",
    "            if shelf == number_shelf_new:\n",
    "                flag = 1\n",
    "        if flag == 1:\n",
    "            directories[number_shelf].remove(number_document_input)\n",
    "            directories[number_shelf_new].append(number_document_input)\n",
    "        else:\n",
    "            print('Полки с номером ',number_shelf_new, 'нет')    \n"
   ]
  },
  {
   "cell_type": "code",
   "execution_count": null,
   "metadata": {},
   "outputs": [],
   "source": [
    "#a – add – команда, которая добавит новый документ в каталог и в перечень полок, \n",
    "#спросив его номер, тип, имя владельца и номер полки, на котором он будет храниться.\n",
    "#documents = [{'type': 'passport', 'number': '2207 876234', 'name': 'Василий Гупкин'},....]\n",
    "#directories = {'1': ['2207 876234', '11-2'],....}\n",
    "def command_a_add():\n",
    "    print('Введите тип документа')\n",
    "    type_document = input()\n",
    "    print('Введите номер документа')\n",
    "    number_document = input()\n",
    "    print('Введите Фамилию и Имя')\n",
    "    name_surname = input()\n",
    "    print('Введите номер полки')\n",
    "    number_shelf = input()\n",
    "    flag = 0\n",
    "    \n",
    "    for shelf in directories.keys():        \n",
    "        if shelf == number_shelf:\n",
    "            flag = 1        \n",
    "    if flag == 1:\n",
    "        directories[number_shelf].append(number_document)\n",
    "        documents.append({'type':type_document, 'number':number_document, 'name':name_surname})\n",
    "        print('Запись добавлена') \n",
    "    else:\n",
    "            print(f'Полки с номером {number_shelf} нет')\n",
    " "
   ]
  },
  {
   "cell_type": "code",
   "execution_count": null,
   "metadata": {},
   "outputs": [],
   "source": [
    "def main():\n",
    "    while True:\n",
    "        user_input = input('Введите команду')\n",
    "        if user_input == 'p':\n",
    "            command_p_people()\n",
    "        elif user_input == 's':\n",
    "            command_s_shelf()\n",
    "        elif user_input == 'l':\n",
    "            command_l_list()\n",
    "        elif user_input == 'as':\n",
    "            command_as_add_shelf()\n",
    "        elif user_input == 'd':\n",
    "            command_d_delete()\n",
    "        elif user_input == 'm':\n",
    "            command_m_move()\n",
    "        elif user_input == 'a':\n",
    "            command_a_add()\n",
    "        elif user_input == 'exit':\n",
    "            print('Выход')\n",
    "            break\n",
    "main()"
   ]
  }
 ],
 "metadata": {
  "kernelspec": {
   "display_name": "Python 3",
   "language": "python",
   "name": "python3"
  },
  "language_info": {
   "codemirror_mode": {
    "name": "ipython",
    "version": 3
   },
   "file_extension": ".py",
   "mimetype": "text/x-python",
   "name": "python",
   "nbconvert_exporter": "python",
   "pygments_lexer": "ipython3",
   "version": "3.7.6"
  }
 },
 "nbformat": 4,
 "nbformat_minor": 2
}
